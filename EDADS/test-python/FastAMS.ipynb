{
 "cells": [
  {
   "cell_type": "code",
   "execution_count": 7,
   "metadata": {},
   "outputs": [
    {
     "data": {
      "text/plain": [
       "array([ 99., 212.,  49., ..., 217., 164., 132.], dtype=float32)"
      ]
     },
     "execution_count": 7,
     "metadata": {},
     "output_type": "execute_result"
    }
   ],
   "source": [
    "import numpy as np\n",
    "import matplotlib.pyplot as plt\n",
    "from scipy import stats\n",
    "with open(\"../data/dataset.csv\", \"r\") as fin:\n",
    "    data=[]\n",
    "    for line in fin:\n",
    "        data.append(line.strip())\n",
    "data=np.array(data, dtype=\"float32\")\n",
    "data"
   ]
  },
  {
   "cell_type": "code",
   "execution_count": 13,
   "metadata": {},
   "outputs": [
    {
     "data": {
      "text/plain": [
       "array([14, 18, 19, 10, 18, 12, 14, 16, 24, 17, 16, 18, 15, 15, 26, 13, 18,\n",
       "       22, 13, 15, 17, 16, 11, 10, 16, 15, 15, 16, 10, 22, 11, 10, 14, 18,\n",
       "        9, 16, 18, 19, 15, 25, 15, 21, 17, 13, 19,  9,  8, 21, 20, 10, 10,\n",
       "       21, 19, 18, 24, 15, 11, 10, 18, 23, 19, 13, 20, 17, 15, 17, 16, 16,\n",
       "       19, 17, 18, 19, 23, 13, 12, 15, 19, 21, 24, 15, 18, 15, 22, 22, 18,\n",
       "       12, 13, 15, 18, 19, 21, 17, 16, 13, 17,  7, 15, 19, 13, 19, 16, 12,\n",
       "       14, 16, 21, 16, 18, 19, 17, 13, 17, 14, 18, 20, 18, 13, 15, 21, 21,\n",
       "       16, 17, 22, 18, 15, 12, 14, 15, 15, 26, 10, 17, 16, 20, 23, 21, 19,\n",
       "       21, 18, 21, 16, 25, 25, 17, 25, 15, 16, 17, 27, 16, 13, 13, 18, 15,\n",
       "       12, 22, 16, 15, 17,  8, 13, 19, 13, 20, 16, 11, 23, 17, 20, 22, 17,\n",
       "       30, 16, 18, 12, 13, 21, 12, 14,  7, 19, 17, 16, 15, 12, 17, 21, 12,\n",
       "       16, 19, 21, 11,  8, 14, 19, 13, 15,  4, 18, 20, 17, 14, 19, 13, 17,\n",
       "       16, 22, 19, 20, 17, 12, 17, 24, 18, 18, 15, 20, 14, 15, 14,  8, 18,\n",
       "       17, 17, 22, 16, 21, 18, 18, 17, 18, 16, 10, 21, 22, 11, 19, 17, 17,\n",
       "       20, 17])"
      ]
     },
     "execution_count": 13,
     "metadata": {},
     "output_type": "execute_result"
    }
   ],
   "source": [
    "num,count=np.unique(data, return_index=False, return_inverse=False, return_counts=True, axis=None)\n",
    "count"
   ]
  },
  {
   "cell_type": "code",
   "execution_count": 14,
   "metadata": {},
   "outputs": [
    {
     "data": {
      "text/plain": [
       "4000"
      ]
     },
     "execution_count": 14,
     "metadata": {},
     "output_type": "execute_result"
    }
   ],
   "source": [
    "sum(count)"
   ]
  },
  {
   "cell_type": "code",
   "execution_count": 15,
   "metadata": {},
   "outputs": [
    {
     "data": {
      "text/plain": [
       "70618"
      ]
     },
     "execution_count": 15,
     "metadata": {},
     "output_type": "execute_result"
    }
   ],
   "source": [
    "sum_=0\n",
    "for el in count:\n",
    "    sum_+= (el**2)\n",
    "sum_    "
   ]
  },
  {
   "cell_type": "code",
   "execution_count": 28,
   "metadata": {},
   "outputs": [
    {
     "data": {
      "text/plain": [
       "array([ 4,  7,  7,  8,  8,  8,  8,  9,  9, 10, 10, 10, 10, 10, 10, 10, 10,\n",
       "       10, 11, 11, 11, 11, 11, 11, 12, 12, 12, 12, 12, 12, 12, 12, 12, 12,\n",
       "       12, 13, 13, 13, 13, 13, 13, 13, 13, 13, 13, 13, 13, 13, 13, 13, 13,\n",
       "       13, 14, 14, 14, 14, 14, 14, 14, 14, 14, 14, 14, 15, 15, 15, 15, 15,\n",
       "       15, 15, 15, 15, 15, 15, 15, 15, 15, 15, 15, 15, 15, 15, 15, 15, 15,\n",
       "       15, 15, 15, 16, 16, 16, 16, 16, 16, 16, 16, 16, 16, 16, 16, 16, 16,\n",
       "       16, 16, 16, 16, 16, 16, 16, 16, 16, 16, 16, 17, 17, 17, 17, 17, 17,\n",
       "       17, 17, 17, 17, 17, 17, 17, 17, 17, 17, 17, 17, 17, 17, 17, 17, 17,\n",
       "       17, 17, 17, 17, 17, 17, 18, 18, 18, 18, 18, 18, 18, 18, 18, 18, 18,\n",
       "       18, 18, 18, 18, 18, 18, 18, 18, 18, 18, 18, 18, 18, 18, 18, 19, 19,\n",
       "       19, 19, 19, 19, 19, 19, 19, 19, 19, 19, 19, 19, 19, 19, 19, 19, 19,\n",
       "       19, 20, 20, 20, 20, 20, 20, 20, 20, 20, 20, 21, 21, 21, 21, 21, 21,\n",
       "       21, 21, 21, 21, 21, 21, 21, 21, 21, 21, 22, 22, 22, 22, 22, 22, 22,\n",
       "       22, 22, 22, 23, 23, 23, 23, 24, 24, 24, 24, 25, 25, 25, 25, 26, 26,\n",
       "       27, 30])"
      ]
     },
     "execution_count": 28,
     "metadata": {},
     "output_type": "execute_result"
    }
   ],
   "source": [
    "#print(np.argsort(count))\n",
    "l=count[np.argsort(count)]\n",
    "l"
   ]
  },
  {
   "cell_type": "code",
   "execution_count": 39,
   "metadata": {},
   "outputs": [
    {
     "data": {
      "text/plain": [
       "3173"
      ]
     },
     "execution_count": 39,
     "metadata": {},
     "output_type": "execute_result"
    }
   ],
   "source": [
    "most_ferquent_sum=sum(l[:-36])\n",
    "most_ferquent_sum"
   ]
  },
  {
   "cell_type": "code",
   "execution_count": 33,
   "metadata": {},
   "outputs": [
    {
     "name": "stdout",
     "output_type": "stream",
     "text": [
      "51467\n"
     ]
    }
   ],
   "source": [
    "\n",
    "most_ferquent_sum=0\n",
    "for el in l[:-36]:\n",
    "    most_ferquent_sum+=(el**2)\n",
    "    \n",
    "print(most_ferquent_sum)    \n",
    "\n",
    "\n"
   ]
  },
  {
   "cell_type": "code",
   "execution_count": 37,
   "metadata": {},
   "outputs": [
    {
     "data": {
      "text/plain": [
       "226.86339501999876"
      ]
     },
     "execution_count": 37,
     "metadata": {},
     "output_type": "execute_result"
    }
   ],
   "source": [
    "np.linalg.norm(l[:-36])"
   ]
  },
  {
   "cell_type": "code",
   "execution_count": null,
   "metadata": {},
   "outputs": [],
   "source": []
  }
 ],
 "metadata": {
  "kernelspec": {
   "display_name": "Python 3",
   "language": "python",
   "name": "python3"
  },
  "language_info": {
   "codemirror_mode": {
    "name": "ipython",
    "version": 3
   },
   "file_extension": ".py",
   "mimetype": "text/x-python",
   "name": "python",
   "nbconvert_exporter": "python",
   "pygments_lexer": "ipython3",
   "version": "3.6.8"
  }
 },
 "nbformat": 4,
 "nbformat_minor": 2
}
